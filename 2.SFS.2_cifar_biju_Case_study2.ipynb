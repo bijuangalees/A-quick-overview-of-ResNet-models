{
  "nbformat": 4,
  "nbformat_minor": 0,
  "metadata": {
    "colab": {
      "provenance": [],
      "authorship_tag": "ABX9TyNnfBoVHryLGBmPGXAiFnpQ",
      "include_colab_link": true
    },
    "kernelspec": {
      "name": "python3",
      "display_name": "Python 3"
    }
  },
  "cells": [
    {
      "cell_type": "markdown",
      "metadata": {
        "id": "view-in-github",
        "colab_type": "text"
      },
      "source": [
        "<a href=\"https://colab.research.google.com/github/bijuangalees/A-quick-overview-of-ResNet-models/blob/main/2.SFS.2_cifar_biju_Case_study2.ipynb\" target=\"_parent\"><img src=\"https://colab.research.google.com/assets/colab-badge.svg\" alt=\"Open In Colab\"/></a>"
      ]
    },
    {
      "cell_type": "code",
      "metadata": {
        "id": "vL5h5TghJdHZ"
      },
      "source": [
        "#Case stydy 2 Cifar"
      ],
      "execution_count": 1,
      "outputs": []
    },
    {
      "cell_type": "code",
      "metadata": {
        "id": "G9c8h6V4JgSB"
      },
      "source": [
        "from tensorflow.keras.datasets import cifar10"
      ],
      "execution_count": 2,
      "outputs": []
    },
    {
      "cell_type": "code",
      "metadata": {
        "id": "IIBrFlZGJl2O",
        "colab": {
          "base_uri": "https://localhost:8080/"
        },
        "outputId": "0f9f7d7b-4f09-4629-82e6-b97b6a81b150"
      },
      "source": [
        "(x_train,y_train),(x_test,y_test) =cifar10.load_data()\n"
      ],
      "execution_count": 3,
      "outputs": [
        {
          "output_type": "stream",
          "name": "stdout",
          "text": [
            "Downloading data from https://www.cs.toronto.edu/~kriz/cifar-10-python.tar.gz\n",
            "170498071/170498071 [==============================] - 5s 0us/step\n"
          ]
        }
      ]
    },
    {
      "cell_type": "code",
      "metadata": {
        "id": "nNsjNL0pKACW",
        "colab": {
          "base_uri": "https://localhost:8080/",
          "height": 84
        },
        "outputId": "b2adec15-67e0-46a0-8478-347e8670c5e4"
      },
      "source": [
        "print('shape of x_train is {}'.format(x_train.shape))\n",
        "print('shape of x_train is {}'.format(x_test.shape))\n",
        "print('shape of x_train is {}'.format(y_train.shape))\n",
        "print('shape of x_train is {}'.format(y_test.shape))\n"
      ],
      "execution_count": null,
      "outputs": [
        {
          "output_type": "stream",
          "text": [
            "shape of x_train is (50000, 32, 32, 3)\n",
            "shape of x_train is (10000, 32, 32, 3)\n",
            "shape of x_train is (50000, 1)\n",
            "shape of x_train is (10000, 1)\n"
          ],
          "name": "stdout"
        }
      ]
    },
    {
      "cell_type": "code",
      "metadata": {
        "id": "qSUqqNRxL-hN"
      },
      "source": [
        "from tensorflow.keras.utils import  to_categorical\n",
        "#Normalizing\n",
        "x_train=x_train/255\n",
        "x_test=x_test/255\n",
        "\n",
        "#one hot encoding\n",
        "y_train_cat=to_categorical(y_train,10)\n",
        "y_test_cat=to_categorical(y_test,10)\n"
      ],
      "execution_count": null,
      "outputs": []
    },
    {
      "cell_type": "code",
      "metadata": {
        "id": "Ust_8yO1KTCK"
      },
      "source": [
        "#importing thre necessary libraries , which we may or may not use. Its always good idea to import them before (if you remember) else we can do it any point of time no problem"
      ],
      "execution_count": null,
      "outputs": []
    },
    {
      "cell_type": "code",
      "metadata": {
        "id": "3iZyfHyTNZ8P"
      },
      "source": [
        "from tensorflow.keras.models import Sequential\n",
        "from tensorflow.keras.layers import Conv2D,MaxPool2D,Dense,Flatten, Dropout,Input,AveragePooling2D,Activation,Conv2D,MaxPooling2D,BatchNormalization,Concatenate\n",
        "from tensorflow.keras.callbacks import EarlyStopping,TensorBoard\n",
        "from tensorflow.keras import regularizers, optimizers\n",
        "from tensorflow.keras.preprocessing.image import ImageDataGenerator"
      ],
      "execution_count": null,
      "outputs": []
    },
    {
      "cell_type": "code",
      "metadata": {
        "id": "IvAzOhokOx0Q"
      },
      "source": [
        "model1=Sequential()\n",
        "model1.add(Conv2D(filters=32,kernel_size=(4,4),input_shape=(32,32,3),activation='relu'))\n",
        "model1.add(MaxPool2D(pool_size=(2,2)))\n",
        "model1.add(Conv2D(filters=32,kernel_size=(4,4),input_shape=(32,32,3),activation='relu'))\n",
        "model1.add(MaxPool2D(pool_size=(2,2)))\n",
        "model1.add(Flatten())\n",
        "model1.add(Dense(256,activation='relu'))\n",
        "model1.add(Dense(10,activation='softmax'))\n",
        "model1.compile(loss='categorical_crossentropy',optimizer='adam',metrics=['accuracy'])\n",
        "\n",
        "\n"
      ],
      "execution_count": null,
      "outputs": []
    },
    {
      "cell_type": "code",
      "metadata": {
        "id": "ZYelETqiTDMF",
        "colab": {
          "base_uri": "https://localhost:8080/",
          "height": 385
        },
        "outputId": "5dc88365-395b-4c77-c12d-8a7e21a585cb"
      },
      "source": [
        "model1.summary()"
      ],
      "execution_count": null,
      "outputs": [
        {
          "output_type": "stream",
          "text": [
            "Model: \"sequential_6\"\n",
            "_________________________________________________________________\n",
            "Layer (type)                 Output Shape              Param #   \n",
            "=================================================================\n",
            "conv2d_7 (Conv2D)            (None, 29, 29, 32)        1568      \n",
            "_________________________________________________________________\n",
            "max_pooling2d_4 (MaxPooling2 (None, 14, 14, 32)        0         \n",
            "_________________________________________________________________\n",
            "conv2d_8 (Conv2D)            (None, 11, 11, 32)        16416     \n",
            "_________________________________________________________________\n",
            "max_pooling2d_5 (MaxPooling2 (None, 5, 5, 32)          0         \n",
            "_________________________________________________________________\n",
            "flatten (Flatten)            (None, 800)               0         \n",
            "_________________________________________________________________\n",
            "dense (Dense)                (None, 256)               205056    \n",
            "_________________________________________________________________\n",
            "dense_1 (Dense)              (None, 10)                2570      \n",
            "=================================================================\n",
            "Total params: 225,610\n",
            "Trainable params: 225,610\n",
            "Non-trainable params: 0\n",
            "_________________________________________________________________\n"
          ],
          "name": "stdout"
        }
      ]
    },
    {
      "cell_type": "code",
      "metadata": {
        "id": "Qmv-VhlbN-Lo",
        "colab": {
          "base_uri": "https://localhost:8080/",
          "height": 652
        },
        "outputId": "5731ae57-5b0d-4fb9-cd9d-ebcd4a2dabc3"
      },
      "source": [
        "#training_steps=train_generator.samples//train_generator.batch_size\n",
        "#validation_steps=test_generator.samples//test_generator.batch_size\n",
        "#history=model1.fit_generator(train_generator,epochs=50,steps_per_epoch=training_steps,validation_data=test_generator,validation_steps=validation_)\n",
        "history1=model1.fit(x_train,y_train_cat,epochs=20,validation_split=0.1)"
      ],
      "execution_count": null,
      "outputs": [
        {
          "output_type": "stream",
          "text": [
            "Epoch 1/20\n",
            "1407/1407 [==============================] - 51s 36ms/step - loss: 2.3028 - accuracy: 0.0980 - val_loss: 2.3030 - val_accuracy: 0.0958\n",
            "Epoch 2/20\n",
            "1407/1407 [==============================] - 52s 37ms/step - loss: 2.3028 - accuracy: 0.0970 - val_loss: 2.3028 - val_accuracy: 0.0986\n",
            "Epoch 3/20\n",
            "1407/1407 [==============================] - 50s 35ms/step - loss: 2.3028 - accuracy: 0.0984 - val_loss: 2.3027 - val_accuracy: 0.1024\n",
            "Epoch 4/20\n",
            "1407/1407 [==============================] - 51s 36ms/step - loss: 2.3028 - accuracy: 0.0969 - val_loss: 2.3029 - val_accuracy: 0.0970\n",
            "Epoch 5/20\n",
            "1407/1407 [==============================] - 49s 35ms/step - loss: 2.3027 - accuracy: 0.1005 - val_loss: 2.3027 - val_accuracy: 0.0970\n",
            "Epoch 6/20\n",
            "1407/1407 [==============================] - 49s 35ms/step - loss: 2.3028 - accuracy: 0.0988 - val_loss: 2.3028 - val_accuracy: 0.0970\n",
            "Epoch 7/20\n",
            "1407/1407 [==============================] - 49s 35ms/step - loss: 2.3028 - accuracy: 0.0997 - val_loss: 2.3030 - val_accuracy: 0.0986\n",
            "Epoch 8/20\n",
            "1407/1407 [==============================] - 50s 35ms/step - loss: 2.3027 - accuracy: 0.1002 - val_loss: 2.3028 - val_accuracy: 0.0950\n",
            "Epoch 9/20\n",
            "1407/1407 [==============================] - 49s 35ms/step - loss: 2.3028 - accuracy: 0.0999 - val_loss: 2.3028 - val_accuracy: 0.0976\n",
            "Epoch 10/20\n",
            "1407/1407 [==============================] - 51s 36ms/step - loss: 2.3027 - accuracy: 0.0981 - val_loss: 2.3030 - val_accuracy: 0.0970\n",
            "Epoch 11/20\n",
            "1407/1407 [==============================] - 49s 35ms/step - loss: 2.3028 - accuracy: 0.0960 - val_loss: 2.3029 - val_accuracy: 0.0970\n",
            "Epoch 12/20\n",
            "1407/1407 [==============================] - 49s 35ms/step - loss: 2.3028 - accuracy: 0.0980 - val_loss: 2.3029 - val_accuracy: 0.0958\n",
            "Epoch 13/20\n",
            "1407/1407 [==============================] - 49s 35ms/step - loss: 2.3028 - accuracy: 0.0975 - val_loss: 2.3029 - val_accuracy: 0.0958\n",
            "Epoch 14/20\n",
            "1407/1407 [==============================] - 53s 38ms/step - loss: 2.3027 - accuracy: 0.1012 - val_loss: 2.3025 - val_accuracy: 0.0976\n",
            "Epoch 15/20\n",
            "1407/1407 [==============================] - 49s 35ms/step - loss: 2.3028 - accuracy: 0.0997 - val_loss: 2.3030 - val_accuracy: 0.0950\n",
            "Epoch 16/20\n",
            "1407/1407 [==============================] - 51s 37ms/step - loss: 2.3028 - accuracy: 0.0998 - val_loss: 2.3026 - val_accuracy: 0.1024\n",
            "Epoch 17/20\n",
            "1407/1407 [==============================] - 49s 35ms/step - loss: 2.3028 - accuracy: 0.0980 - val_loss: 2.3030 - val_accuracy: 0.0986\n",
            "Epoch 18/20\n",
            "1407/1407 [==============================] - 49s 35ms/step - loss: 2.3028 - accuracy: 0.0955 - val_loss: 2.3030 - val_accuracy: 0.0976\n",
            "Epoch 19/20\n",
            " 482/1407 [=========>....................] - ETA: 31s - loss: 2.3027 - accuracy: 0.0991"
          ],
          "name": "stdout"
        }
      ]
    }
  ]
}